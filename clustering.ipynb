{
 "cells": [
  {
   "cell_type": "code",
   "execution_count": 1,
   "metadata": {},
   "outputs": [
    {
     "name": "stderr",
     "output_type": "stream",
     "text": [
      "Using TensorFlow backend.\n"
     ]
    }
   ],
   "source": [
    "import os\n",
    "import numpy as np\n",
    "import tensorflow as tf\n",
    "import keras\n",
    "import numpy as np\n",
    "import cv2 \n",
    "import glob\n",
    "\n"
   ]
  },
  {
   "cell_type": "code",
   "execution_count": 2,
   "metadata": {},
   "outputs": [],
   "source": [
    "model = tf.keras.applications.VGG19(weights='imagenet', include_top=False)"
   ]
  },
  {
   "cell_type": "code",
   "execution_count": 3,
   "metadata": {},
   "outputs": [],
   "source": [
    "#function to extract feature form images using vgg19 model and resize images to 512 x 512\n",
    "#Convert our image database into feature vectors using VGG model\n",
    "def extract_vector(path):\n",
    "    vgg_feature_list = []\n",
    "\n",
    "    for im in glob.glob(path):\n",
    "\n",
    "        im = cv2.imread(im)\n",
    "        im = cv2.resize(im,(512,512))\n",
    "        img = tf.keras.applications.vgg19.preprocess_input(np.expand_dims(im.copy(), axis=0))\n",
    "        vgg_feature = model.predict(img)\n",
    "        vgg_feature_np = np.array(vgg_feature)\n",
    "        vgg_feature_list.append(vgg_feature_np.flatten())\n",
    "\n",
    "    return np.array(vgg_feature_list)"
   ]
  },
  {
   "cell_type": "code",
   "execution_count": 4,
   "metadata": {},
   "outputs": [],
   "source": [
    "x = extract_vector('train/*')"
   ]
  },
  {
   "cell_type": "code",
   "execution_count": null,
   "metadata": {},
   "outputs": [],
   "source": [
    "#use Kmeans for clustering\n",
    "#code for finding right valuse of using \"elbow method\" \n",
    "\n",
    "from sklearn.cluster import KMeans\n",
    "k_values = [2,3,4,5,6,7,8,9]\n",
    "loss = []\n",
    "for i in k_values:\n",
    "    kmeans = KMeans(n_clusters=i, n_jobs=-1).fit(x)\n",
    "    loss.append(kmeans.inertia_)"
   ]
  },
  {
   "cell_type": "code",
   "execution_count": 21,
   "metadata": {},
   "outputs": [
    {
     "data": {
      "image/png": "[encoded data removed]",
      "text/plain": [
       "<Figure size 432x288 with 1 Axes>"
      ]
     },
     "metadata": {
      "needs_background": "light"
     },
     "output_type": "display_data"
    }
   ],
   "source": [
    "import matplotlib.pyplot as plt\n",
    "plt.plot(k_values, loss)\n",
    "plt.xlabel('K-values',size=14)\n",
    "plt.ylabel('Loss',size=14)\n",
    "plt.title('Loss VS K-values Plot\\n',size=18)\n",
    "plt.grid()\n",
    "plt.show()"
   ]
  },
  {
   "cell_type": "code",
   "execution_count": 23,
   "metadata": {},
   "outputs": [],
   "source": [
    "#as we can observe from k=6 linearity stars so n_clusters=6\n",
    "kmeans = KMeans(n_clusters=6, random_state=0, n_jobs=-1).fit(x)"
   ]
  },
  {
   "cell_type": "code",
   "execution_count": 27,
   "metadata": {},
   "outputs": [
    {
     "name": "stdout",
     "output_type": "stream",
     "text": [
      "No. of reviews in Cluster-1 :  872\n",
      "\n",
      "No. of reviews in Cluster-2 :  849\n",
      "\n",
      "No. of reviews in Cluster-3 :  603\n",
      "\n",
      "No. of reviews in Cluster-4 :  679\n",
      "\n",
      "No. of reviews in Cluster-5 :  674\n",
      "\n",
      "No. of reviews in Cluster-6 :  1061\n"
     ]
    }
   ],
   "source": [
    "cluster1 = []\n",
    "cluster2 = []\n",
    "cluster3 = []\n",
    "cluster4 = []\n",
    "cluster5 = []\n",
    "cluster6 = []\n",
    "\n",
    "for i in range(kmeans.labels_.shape[0]):\n",
    "    if kmeans.labels_[i] == 0:\n",
    "        cluster1.append(x[i])\n",
    "    elif kmeans.labels_[i] == 1:\n",
    "        cluster2.append(x[i])\n",
    "    elif kmeans.labels_[i] == 2:\n",
    "        cluster3.append(x[i])\n",
    "    elif kmeans.labels_[i] == 3:\n",
    "        cluster4.append(x[i])\n",
    "    elif kmeans.labels_[i] == 4:\n",
    "        cluster5.append(x[i])    \n",
    "    else :\n",
    "        cluster6.append(x[i]) \n",
    "        \n",
    "print(\"No. of reviews in Cluster-1 : \",len(cluster1))\n",
    "print(\"\\nNo. of reviews in Cluster-2 : \",len(cluster2))\n",
    "print(\"\\nNo. of reviews in Cluster-3 : \",len(cluster3))\n",
    "print(\"\\nNo. of reviews in Cluster-4 : \",len(cluster4))\n",
    "print(\"\\nNo. of reviews in Cluster-5 : \",len(cluster5))\n",
    "print(\"\\nNo. of reviews in Cluster-6 : \",len(cluster6))"
   ]
  },
  {
   "cell_type": "code",
   "execution_count": 37,
   "metadata": {},
   "outputs": [
    {
     "name": "stdout",
     "output_type": "stream",
     "text": [
      "image-1 : \n",
      " [0.5673914  0.10983701 0.02583745 ... 0.08807462 0.01594158 0.09149215]\n",
      "\n",
      "image-2 : \n",
      " [0.11487017 0.23240826 0.05111597 ... 0.02474875 0.00076864 0.13929343]\n",
      "\n",
      "image-3 : \n",
      " [0.50142515 0.32078543 0.05713119 ... 0.02702948 0.00588839 0.01556033]\n",
      "\n"
     ]
    }
   ],
   "source": [
    "count=1\n",
    "for i in range(3):\n",
    "    print('image-%d : \\n %s\\n'%(count,cluster1[i]))\n",
    "    count +=1"
   ]
  }
 ],
 "metadata": {
  "kernelspec": {
   "display_name": "Python 3",
   "language": "python",
   "name": "python3"
  },
  "language_info": {
   "codemirror_mode": {
    "name": "ipython",
    "version": 3
   },
   "file_extension": ".py",
   "mimetype": "text/x-python",
   "name": "python",
   "nbconvert_exporter": "python",
   "pygments_lexer": "ipython3",
   "version": "3.7.3"
  }
 },
 "nbformat": 4,
 "nbformat_minor": 2
}
