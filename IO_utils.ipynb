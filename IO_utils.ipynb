{
 "cells": [
  {
   "cell_type": "code",
   "execution_count": null,
   "metadata": {},
   "outputs": [],
   "source": [
    "import os\n",
    "import skimage.io\n",
    "from multiprocessing import Pool\n",
    "\n",
    "# Read image\n",
    "def read_img(filePath):\n",
    "    return skimage.io.imread(filePath, as_gray=False)\n",
    "\n",
    "# Read images with common extensions\n",
    "def read_imgs_dir(dirPath, extensions, parallel=True):\n",
    "    args = [os.path.join(dirPath, filename)\n",
    "            for filename in os.listdir(dirPath)\n",
    "            if any(filename.lower().endswith(ext) for ext in extensions)]\n",
    "    if parallel:\n",
    "        pool = Pool()\n",
    "        imgs = pool.map(read_img, args)\n",
    "        pool.close()\n",
    "        pool.join()\n",
    "    else:\n",
    "        imgs = [read_img(arg) for arg in args]\n",
    "    return imgs\n",
    "\n",
    "# Save image to file\n",
    "def save_img(filePath, img):\n",
    "    skimage.io.imsave(filePath, img)"
   ]
  }
 ],
 "metadata": {
  "kernelspec": {
   "display_name": "Python 3",
   "language": "python",
   "name": "python3"
  },
  "language_info": {
   "codemirror_mode": {
    "name": "ipython",
    "version": 3
   },
   "file_extension": ".py",
   "mimetype": "text/x-python",
   "name": "python",
   "nbconvert_exporter": "python",
   "pygments_lexer": "ipython3",
   "version": "3.7.3"
  }
 },
 "nbformat": 4,
 "nbformat_minor": 2
}
