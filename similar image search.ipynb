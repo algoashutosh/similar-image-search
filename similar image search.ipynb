{
 "cells": [
  {
   "cell_type": "code",
   "execution_count": 1,
   "metadata": {},
   "outputs": [
    {
     "name": "stderr",
     "output_type": "stream",
     "text": [
      "Using TensorFlow backend.\n"
     ]
    }
   ],
   "source": [
    "import os\n",
    "import numpy as np\n",
    "import tensorflow as tf\n",
    "from sklearn.neighbors import NearestNeighbors\n",
    "from ipynb.fs.full.IO_utils import read_imgs_dir\n",
    "from ipynb.fs.full.Show_utils import plot_query_retrieval\n",
    "\n",
    "import keras\n",
    "import cv2 \n",
    "import glob \n"
   ]
  },
  {
   "cell_type": "code",
   "execution_count": 3,
   "metadata": {},
   "outputs": [],
   "source": [
    "modelName = \"vgg19\"\n",
    "trainModel = True\n",
    "parallel = True  # for using multicore processing\n"
   ]
  },
  {
   "cell_type": "code",
   "execution_count": 4,
   "metadata": {},
   "outputs": [],
   "source": [
    "# Make paths\n",
    "dataTrainDir = os.path.join(os.getcwd(), \"train\")\n",
    "dataTestDir = os.path.join(os.getcwd(), \"test\")\n",
    "outDir = os.path.join(os.getcwd(), \"output\", modelName)\n",
    "if not os.path.exists(outDir):\n",
    "    os.makedirs(outDir)"
   ]
  },
  {
   "cell_type": "code",
   "execution_count": 5,
   "metadata": {},
   "outputs": [
    {
     "name": "stdout",
     "output_type": "stream",
     "text": [
      "read train images 'C:\\Users\\ashu\\Documents\\jupterNotebook\\avantari_task\\avantari_jupyter\\train'...\n",
      "read test images 'C:\\Users\\ashu\\Documents\\jupterNotebook\\avantari_task\\avantari_jupyter\\test'...\n",
      "image size = (512, 512, 3)\n"
     ]
    }
   ],
   "source": [
    "#reading images of jpg or jpeg format\n",
    "extensions = [\".jpg\", \".jpeg\"]\n",
    "print(\"read train images '{}'...\".format(dataTrainDir))\n",
    "imgs_train = read_imgs_dir(dataTrainDir, extensions, parallel=parallel)\n",
    "print(\"read test images '{}'...\".format(dataTestDir))\n",
    "imgs_test = read_imgs_dir(dataTestDir, extensions, parallel=parallel)\n",
    "shape_img = imgs_train[0].shape\n",
    "print(\"image size = {}\".format(shape_img))"
   ]
  },
  {
   "cell_type": "code",
   "execution_count": 6,
   "metadata": {},
   "outputs": [
    {
     "name": "stdout",
     "output_type": "stream",
     "text": [
      "Loading VGG19 pre-trained model\n",
      "Model: \"vgg19\"\n",
      "_________________________________________________________________\n",
      "Layer (type)                 Output Shape              Param #   \n",
      "=================================================================\n",
      "input_1 (InputLayer)         [(None, 512, 512, 3)]     0         \n",
      "_________________________________________________________________\n",
      "block1_conv1 (Conv2D)        (None, 512, 512, 64)      1792      \n",
      "_________________________________________________________________\n",
      "block1_conv2 (Conv2D)        (None, 512, 512, 64)      36928     \n",
      "_________________________________________________________________\n",
      "block1_pool (MaxPooling2D)   (None, 256, 256, 64)      0         \n",
      "_________________________________________________________________\n",
      "block2_conv1 (Conv2D)        (None, 256, 256, 128)     73856     \n",
      "_________________________________________________________________\n",
      "block2_conv2 (Conv2D)        (None, 256, 256, 128)     147584    \n",
      "_________________________________________________________________\n",
      "block2_pool (MaxPooling2D)   (None, 128, 128, 128)     0         \n",
      "_________________________________________________________________\n",
      "block3_conv1 (Conv2D)        (None, 128, 128, 256)     295168    \n",
      "_________________________________________________________________\n",
      "block3_conv2 (Conv2D)        (None, 128, 128, 256)     590080    \n",
      "_________________________________________________________________\n",
      "block3_conv3 (Conv2D)        (None, 128, 128, 256)     590080    \n",
      "_________________________________________________________________\n",
      "block3_conv4 (Conv2D)        (None, 128, 128, 256)     590080    \n",
      "_________________________________________________________________\n",
      "block3_pool (MaxPooling2D)   (None, 64, 64, 256)       0         \n",
      "_________________________________________________________________\n",
      "block4_conv1 (Conv2D)        (None, 64, 64, 512)       1180160   \n",
      "_________________________________________________________________\n",
      "block4_conv2 (Conv2D)        (None, 64, 64, 512)       2359808   \n",
      "_________________________________________________________________\n",
      "block4_conv3 (Conv2D)        (None, 64, 64, 512)       2359808   \n",
      "_________________________________________________________________\n",
      "block4_conv4 (Conv2D)        (None, 64, 64, 512)       2359808   \n",
      "_________________________________________________________________\n",
      "block4_pool (MaxPooling2D)   (None, 32, 32, 512)       0         \n",
      "_________________________________________________________________\n",
      "block5_conv1 (Conv2D)        (None, 32, 32, 512)       2359808   \n",
      "_________________________________________________________________\n",
      "block5_conv2 (Conv2D)        (None, 32, 32, 512)       2359808   \n",
      "_________________________________________________________________\n",
      "block5_conv3 (Conv2D)        (None, 32, 32, 512)       2359808   \n",
      "_________________________________________________________________\n",
      "block5_conv4 (Conv2D)        (None, 32, 32, 512)       2359808   \n",
      "_________________________________________________________________\n",
      "block5_pool (MaxPooling2D)   (None, 16, 16, 512)       0         \n",
      "=================================================================\n",
      "Total params: 20,024,384\n",
      "Trainable params: 20,024,384\n",
      "Non-trainable params: 0\n",
      "_________________________________________________________________\n"
     ]
    }
   ],
   "source": [
    "#Use the bottleneck features of a pre-trained network vgg19 and remove its last layers\n",
    "if modelName in [\"vgg19\"]:\n",
    "\n",
    "    # Load pre-trained VGG19 model + higher level layers\n",
    "    print(\"Loading VGG19 pre-trained model\")\n",
    "    model = tf.keras.applications.VGG19(weights='imagenet', include_top=False,\n",
    "                                        input_shape=shape_img)\n",
    "    model.summary()\n",
    "\n",
    "    shape_img_resize = tuple([int(x) for x in model.input.shape[1:]])\n",
    "    input_shape_model = tuple([int(x) for x in model.input.shape[1:]])\n",
    "    output_shape_model = tuple([int(x) for x in model.output.shape[1:]])\n",
    "    n_epochs = None\n",
    "\n",
    "else:\n",
    "    raise Exception(\"Invalid modelName!\")\n"
   ]
  },
  {
   "cell_type": "code",
   "execution_count": 7,
   "metadata": {},
   "outputs": [
    {
     "name": "stdout",
     "output_type": "stream",
     "text": [
      "input_shape_model = (512, 512, 3)\n",
      "output_shape_model = (16, 16, 512)\n"
     ]
    }
   ],
   "source": [
    "# Print model info\n",
    "print(\"input_shape_model = {}\".format(input_shape_model))\n",
    "print(\"output_shape_model = {}\".format(output_shape_model))\n"
   ]
  },
  {
   "cell_type": "code",
   "execution_count": 8,
   "metadata": {},
   "outputs": [],
   "source": [
    "#function to extract feature form images using vgg19 model and resize images to 512 x 512\n",
    "#Convert our image database into feature vectors using VGG model\n",
    "def extract_vector(path):\n",
    "    vgg_feature_list = []\n",
    "\n",
    "    for im in glob.glob(path):\n",
    "\n",
    "        im = cv2.imread(im)\n",
    "        im = cv2.resize(im,(512,512))\n",
    "        img = tf.keras.applications.vgg19.preprocess_input(np.expand_dims(im.copy(), axis=0))\n",
    "        vgg_feature = model.predict(img)\n",
    "        vgg_feature_np = np.array(vgg_feature)\n",
    "        vgg_feature_list.append(vgg_feature_np.flatten())\n",
    "\n",
    "    return np.array(vgg_feature_list)"
   ]
  },
  {
   "cell_type": "code",
   "execution_count": 9,
   "metadata": {},
   "outputs": [],
   "source": [
    "x = extract_vector('train/*')\n"
   ]
  },
  {
   "cell_type": "code",
   "execution_count": 10,
   "metadata": {},
   "outputs": [],
   "source": [
    "y = extract_vector('test/*')"
   ]
  },
  {
   "cell_type": "code",
   "execution_count": 11,
   "metadata": {},
   "outputs": [
    {
     "data": {
      "text/plain": [
       "(4738, 131072)"
      ]
     },
     "execution_count": 11,
     "metadata": {},
     "output_type": "execute_result"
    }
   ],
   "source": [
    "x.shape"
   ]
  },
  {
   "cell_type": "code",
   "execution_count": 12,
   "metadata": {},
   "outputs": [
    {
     "name": "stdout",
     "output_type": "stream",
     "text": [
      "Fitting k-nearest-neighbour model on training images...\n"
     ]
    },
    {
     "data": {
      "text/plain": [
       "NearestNeighbors(algorithm='auto', leaf_size=30, metric='cosine',\n",
       "         metric_params=None, n_jobs=None, n_neighbors=15, p=2, radius=1.0)"
      ]
     },
     "execution_count": 12,
     "metadata": {},
     "output_type": "execute_result"
    }
   ],
   "source": [
    "# Fit kNN model on training images\n",
    "# Compute similarities between our image feature vectors using an inner-product such as cosine similarity or euclidean distance\n",
    "print(\"Fitting k-nearest-neighbour model on training images...\")\n",
    "knn = NearestNeighbors(n_neighbors=15, metric=\"cosine\")\n",
    "knn.fit(x)"
   ]
  },
  {
   "cell_type": "code",
   "execution_count": 13,
   "metadata": {},
   "outputs": [
    {
     "name": "stdout",
     "output_type": "stream",
     "text": [
      "Performing image retrieval on test images...\n"
     ]
    }
   ],
   "source": [
    "#For each image, select the images with the top-k similarity scores and show it and print output in \"output\" folder\n",
    "print(\"Performing image retrieval on test images...\")\n",
    "for i, emb_flatten in enumerate(y):\n",
    "    _, indices = knn.kneighbors([emb_flatten]) # find k nearest train neighbours\n",
    "    img_query = imgs_test[i] # query image\n",
    "    imgs_retrieval = [imgs_train[idx] for idx in indices.flatten()] # retrieval images\n",
    "    outFile = os.path.join(outDir, \"{}_retrieval_{}.png\".format(modelName, i))\n",
    "    plot_query_retrieval(img_query, imgs_retrieval, outFile)"
   ]
  }
 ],
 "metadata": {
  "kernelspec": {
   "display_name": "Python 3",
   "language": "python",
   "name": "python3"
  },
  "language_info": {
   "codemirror_mode": {
    "name": "ipython",
    "version": 3
   },
   "file_extension": ".py",
   "mimetype": "text/x-python",
   "name": "python",
   "nbconvert_exporter": "python",
   "pygments_lexer": "ipython3",
   "version": "3.7.3"
  }
 },
 "nbformat": 4,
 "nbformat_minor": 2
}
