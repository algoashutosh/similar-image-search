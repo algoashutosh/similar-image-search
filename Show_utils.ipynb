{
 "cells": [
  {
   "cell_type": "code",
   "execution_count": null,
   "metadata": {},
   "outputs": [],
   "source": [
    "import matplotlib.pyplot as plt\n",
    "\n",
    "\n",
    "# Plots images in 2 rows: top row is query, bottom row is answer\n",
    "def plot_query_retrieval(img_query, imgs_retrieval, outFile):\n",
    "    n_retrieval = len(imgs_retrieval)\n",
    "    fig = plt.figure(figsize=(2*n_retrieval, 4))\n",
    "    fig.suptitle(\"Image Retrieval (k={})\".format(n_retrieval), fontsize=25)\n",
    "\n",
    "    # Plot query image\n",
    "    ax = plt.subplot(2, n_retrieval, 0 + 1)\n",
    "    plt.imshow(img_query)\n",
    "    ax.get_xaxis().set_visible(False)\n",
    "    ax.get_yaxis().set_visible(False)\n",
    "    for axis in ['top', 'bottom', 'left', 'right']:\n",
    "        ax.spines[axis].set_linewidth(4)  # increase border thickness\n",
    "        ax.spines[axis].set_color('black')  # set to black\n",
    "    ax.set_title(\"query\",  fontsize=14)  # set subplot title\n",
    "\n",
    "    # Plot retrieval images\n",
    "    for i, img in enumerate(imgs_retrieval):\n",
    "        ax = plt.subplot(2, n_retrieval, n_retrieval + i + 1)\n",
    "        plt.imshow(img)\n",
    "        ax.get_xaxis().set_visible(False)\n",
    "        ax.get_yaxis().set_visible(False)\n",
    "        for axis in ['top', 'bottom', 'left', 'right']:\n",
    "            ax.spines[axis].set_linewidth(1)  # set border thickness\n",
    "            ax.spines[axis].set_color('black')  # set to black\n",
    "        ax.set_title(\"Rank #%d\" % (i+1), fontsize=14)  # set subplot title\n",
    "\n",
    "    if outFile is None:\n",
    "        plt.show()\n",
    "    else:\n",
    "        plt.savefig(outFile, bbox_inches='tight')\n",
    "    plt.close()\n",
    "\n"
   ]
  }
 ],
 "metadata": {
  "kernelspec": {
   "display_name": "Python 3",
   "language": "python",
   "name": "python3"
  },
  "language_info": {
   "codemirror_mode": {
    "name": "ipython",
    "version": 3
   },
   "file_extension": ".py",
   "mimetype": "text/x-python",
   "name": "python",
   "nbconvert_exporter": "python",
   "pygments_lexer": "ipython3",
   "version": "3.7.3"
  }
 },
 "nbformat": 4,
 "nbformat_minor": 2
}
